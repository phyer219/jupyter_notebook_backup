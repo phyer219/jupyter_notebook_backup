{
 "cells": [
  {
   "cell_type": "code",
   "execution_count": 2,
   "metadata": {},
   "outputs": [
    {
     "name": "stderr",
     "output_type": "stream",
     "text": [
      "No handles with labels found to put in legend.\n"
     ]
    },
    {
     "data": {
      "image/png": "[encoded data removed]",
      "text/plain": [
       "<Figure size 432x288 with 1 Axes>"
      ]
     },
     "metadata": {
      "needs_background": "light"
     },
     "output_type": "display_data"
    }
   ],
   "source": [
    "import random\n",
    "import math\n",
    "import matplotlib.pyplot as plt\n",
    "pi = 3.1415926\n",
    "exact = 3*pi/8\n",
    "\n",
    "def w(a):\n",
    "    b = (1/math.sqrt(2*pi))*math.exp(-a*a/2)\n",
    "    return b\n",
    "\n",
    "def f(a, b):\n",
    "    c = (math.exp(-(a*a+b*b))*a*a*b*b*b*b)/(w(a)*w(b))\n",
    "    return c\n",
    "\n",
    "def min(a, b):\n",
    "    if a < b:\n",
    "        return a\n",
    "    else:\n",
    "        return b\n",
    "\n",
    "def MC(N):\n",
    "    x1 = 0.5\n",
    "    y1 = 0.5\n",
    "    x = 0\n",
    "    y = 0  \n",
    "    a1 = 0\n",
    "    a2 = 0\n",
    "    i = 0\n",
    "    count = 0\n",
    "    sum = 0\n",
    "    error = 0\n",
    "     \n",
    "    for i in range (N):\n",
    "        x = random.random()*1.6 - 0.8 + x1\n",
    "        y = random.random()*1.6 - 0.8 + y1\n",
    "        a1 = min(1, w(x)/w(x1))\n",
    "        a2 = min(1, w(y)/w(y1))\n",
    "        h1 = random.random()\n",
    "        h2 = random.random()\n",
    "        if h1 < a1:\n",
    "            x1 = x\n",
    "        else:\n",
    "            x1 = x1\n",
    "        if h2 < a2:\n",
    "            y1 = y\n",
    "        else:\n",
    "            y1 = y1\n",
    "        if i > 1000 and i % 1000 == 0:\n",
    "            count += 1\n",
    "            sum += f(x1, y1)\n",
    "            error = sum / count - exact\n",
    "        return error,count\n",
    "    \n",
    "m=n=0\n",
    "Error=[]\n",
    "Count=[]\n",
    "def main():\n",
    "    for N in range(10**5,10**7,10**5):\n",
    "        MC(N)\n",
    "        Error.append(m)\n",
    "        Count.append(n)\n",
    "    main()\n",
    "    \n",
    "plt.plot(Count,Error)\n",
    "plt.ylabel(\"error\")\n",
    "plt.xlabel(\"N\")\n",
    "plt.legend()\n",
    "plt.show()\n"
   ]
  },
  {
   "cell_type": "code",
   "execution_count": 3,
   "metadata": {},
   "outputs": [
    {
     "name": "stdout",
     "output_type": "stream",
     "text": [
      "[]\n"
     ]
    }
   ],
   "source": [
    "print(Error)"
   ]
  },
  {
   "cell_type": "code",
   "execution_count": 15,
   "metadata": {},
   "outputs": [
    {
     "data": {
      "text/plain": [
       "(0, 0)"
      ]
     },
     "execution_count": 15,
     "metadata": {},
     "output_type": "execute_result"
    }
   ],
   "source": [
    "MC(40000000)"
   ]
  },
  {
   "cell_type": "code",
   "execution_count": 9,
   "metadata": {},
   "outputs": [
    {
     "name": "stdout",
     "output_type": "stream",
     "text": [
      "1\n",
      "2\n",
      "3\n"
     ]
    }
   ],
   "source": [
    "for i in (1,2,3):\n",
    "    print(i)"
   ]
  },
  {
   "cell_type": "code",
   "execution_count": 11,
   "metadata": {},
   "outputs": [
    {
     "name": "stdout",
     "output_type": "stream",
     "text": [
      "3\n"
     ]
    }
   ],
   "source": [
    "a = 2\n",
    "a +=1\n",
    "print(a)"
   ]
  },
  {
   "cell_type": "code",
   "execution_count": 14,
   "metadata": {},
   "outputs": [
    {
     "data": {
      "text/plain": [
       "2"
      ]
     },
     "execution_count": 14,
     "metadata": {},
     "output_type": "execute_result"
    }
   ],
   "source": [
    "100%98"
   ]
  },
  {
   "cell_type": "code",
   "execution_count": 19,
   "metadata": {},
   "outputs": [
    {
     "data": {
      "text/plain": [
       "3.4291972779060957"
      ]
     },
     "execution_count": 19,
     "metadata": {},
     "output_type": "execute_result"
    }
   ],
   "source": [
    "f(1,3)"
   ]
  },
  {
   "cell_type": "code",
   "execution_count": 21,
   "metadata": {},
   "outputs": [
    {
     "name": "stdout",
     "output_type": "stream",
     "text": [
      "[ 1.  2.  3.  4.  5.  6.  7.  8.  9. 10. 11. 12.]\n"
     ]
    }
   ],
   "source": [
    "import numpy as np\n",
    "a = np.linspace(1,12,12)\n",
    "print(a)"
   ]
  },
  {
   "cell_type": "code",
   "execution_count": null,
   "metadata": {},
   "outputs": [],
   "source": []
  }
 ],
 "metadata": {
  "kernelspec": {
   "display_name": "Python 3",
   "language": "python",
   "name": "python3"
  },
  "language_info": {
   "codemirror_mode": {
    "name": "ipython",
    "version": 3
   },
   "file_extension": ".py",
   "mimetype": "text/x-python",
   "name": "python",
   "nbconvert_exporter": "python",
   "pygments_lexer": "ipython3",
   "version": "3.7.3"
  }
 },
 "nbformat": 4,
 "nbformat_minor": 2
}
