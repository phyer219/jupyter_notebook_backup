{
 "cells": [
  {
   "cell_type": "code",
   "execution_count": 3,
   "metadata": {},
   "outputs": [
    {
     "name": "stderr",
     "output_type": "stream",
     "text": [
      "No handles with labels found to put in legend.\n"
     ]
    },
    {
     "data": {
      "image/png": "[encoded data removed]",
      "text/plain": [
       "<Figure size 432x288 with 1 Axes>"
      ]
     },
     "metadata": {
      "needs_background": "light"
     },
     "output_type": "display_data"
    }
   ],
   "source": [
    "import numpy as np\n",
    "import matplotlib.pyplot as plt\n",
    "\n",
    "n = 10000     # number of steps\n",
    "k= 1         # Boltzmann constant\n",
    "N = 10        # N*N lattice \n",
    "J = 1         # Interaction constant\n",
    "TF = 20       # temperature range from 0 to TF\n",
    "NT = 20       # number of different temperatures\n",
    "\n",
    "# define a function to calculate the Hamiltonian of a given spin configuration S\n",
    "def H(S): \n",
    "    HH = 0\n",
    "    for i in range (N):\n",
    "        for j in range (N):\n",
    "            a = i +1\n",
    "            b = i-1\n",
    "            c = j+1\n",
    "            d = j-1\n",
    "            if i == N-1:\n",
    "                a = 0\n",
    "            if i == 0:\n",
    "                b = N-1\n",
    "            if j == N -1:\n",
    "                c = 0\n",
    "            if j == 0:\n",
    "                d = N-1\n",
    "            HH = HH + S[a][c] + S[a][d] + S[b][c] + S[b][d]\n",
    "    HH = -J * HH\n",
    "    return HH\n",
    "\n",
    "def m(S):  # define a function to calculate magnetization \n",
    "    m = 0\n",
    "    for i in range (N):\n",
    "        for j in range (N):\n",
    "            m  = m +S[i][j]\n",
    "    m = m / (N*N)\n",
    "    return m\n",
    "    \n",
    "def MAG(T): # the MC function \n",
    "    S =np.linspace(-1,-1,N*N) # initial value of spin configuration\n",
    "    S.shape = N,N\n",
    "    \n",
    "    mm = 0\n",
    "    S0 = S.copy()\n",
    "    \n",
    "    for i in range (n):\n",
    "        S0 = S.copy() # if write as S0 = S, they will share memory in computer\n",
    "        # randomly chose a site to flip \n",
    "        Q = N*np.random.random_sample()\n",
    "        Q = np.floor(Q)\n",
    "        Q = Q.astype(int)\n",
    "        W = N*np.random.random_sample()\n",
    "        W = np.floor(W)\n",
    "        W = W.astype(int)\n",
    "        S[Q][W] = -S[Q][W]\n",
    "        \n",
    "        D = H(S) - H(S0)\n",
    "        rand = np.random.random_sample()\n",
    "        if D <= 0 :\n",
    "            S = S.copy()\n",
    "        elif np.e**(-D/(k*T)) < rand:\n",
    "            S = S0.copy()\n",
    "            \n",
    "        mm = mm + m(S0)\n",
    "    \n",
    "    mm = mm / n \n",
    "    return mm\n",
    "\n",
    "TEM = np.linspace(1e-3, TF, NT)\n",
    "mmm = np.linspace(1e-3, TF, NT)\n",
    "# calculate magnetization at different temperature\n",
    "for i in range (NT):\n",
    "    mmm[i] = MAG (TEM[i])\n",
    "    \n",
    "plt.scatter(TEM,mmm)\n",
    "plt.xlabel('$kT/J$')\n",
    "plt.ylabel('$m$')\n",
    "plt.title('Phase_diagram_of_2D_Ising_model')\n",
    "plt.legend()\n",
    "plt.show()"
   ]
  },
  {
   "cell_type": "code",
   "execution_count": 23,
   "metadata": {},
   "outputs": [
    {
     "data": {
      "text/plain": [
       "3"
      ]
     },
     "execution_count": 23,
     "metadata": {},
     "output_type": "execute_result"
    }
   ],
   "source": [
    "np.int16(3.6)"
   ]
  },
  {
   "cell_type": "code",
   "execution_count": 24,
   "metadata": {},
   "outputs": [
    {
     "data": {
      "text/plain": [
       "3"
      ]
     },
     "execution_count": 24,
     "metadata": {},
     "output_type": "execute_result"
    }
   ],
   "source": [
    "np.int16(3.2)"
   ]
  },
  {
   "cell_type": "code",
   "execution_count": 26,
   "metadata": {},
   "outputs": [
    {
     "data": {
      "text/plain": [
       "0"
      ]
     },
     "execution_count": 26,
     "metadata": {},
     "output_type": "execute_result"
    }
   ],
   "source": [
    "np.int16(np.random.random_sample())"
   ]
  },
  {
   "cell_type": "code",
   "execution_count": 18,
   "metadata": {},
   "outputs": [
    {
     "name": "stdout",
     "output_type": "stream",
     "text": [
      "0\n",
      "0\n",
      "0\n"
     ]
    }
   ],
   "source": [
    "N = 70\n",
    "W = N*np.int16(np.random.random_sample()) #这一步先取了0和1之间的随机数,然后又取成了整数, 但是取整数的话, 就都取成 0 了\n",
    "print(W)\n",
    "W = np.int16(np.floor(W))\n",
    "print(W)\n",
    "w = np.int16(W.astype(int))\n",
    "print(W)"
   ]
  },
  {
   "cell_type": "code",
   "execution_count": 20,
   "metadata": {},
   "outputs": [
    {
     "name": "stdout",
     "output_type": "stream",
     "text": [
      "20.517319623668723\n",
      "20.0\n",
      "20\n"
     ]
    }
   ],
   "source": [
    "N = 70\n",
    "W = N*np.random.random_sample()\n",
    "print(W)\n",
    "W = np.floor(W)\n",
    "print(W)\n",
    "W = W.astype(int)\n",
    "print(W)"
   ]
  },
  {
   "cell_type": "code",
   "execution_count": 13,
   "metadata": {},
   "outputs": [
    {
     "name": "stdout",
     "output_type": "stream",
     "text": [
      "7\n"
     ]
    }
   ],
   "source": [
    "print(N)"
   ]
  },
  {
   "cell_type": "code",
   "execution_count": 22,
   "metadata": {},
   "outputs": [
    {
     "data": {
      "text/plain": [
       "0.4130943923711703"
      ]
     },
     "execution_count": 22,
     "metadata": {},
     "output_type": "execute_result"
    }
   ],
   "source": [
    "np.random.random_sample()"
   ]
  },
  {
   "cell_type": "code",
   "execution_count": null,
   "metadata": {},
   "outputs": [],
   "source": []
  }
 ],
 "metadata": {
  "kernelspec": {
   "display_name": "Python 3",
   "language": "python",
   "name": "python3"
  },
  "language_info": {
   "codemirror_mode": {
    "name": "ipython",
    "version": 3
   },
   "file_extension": ".py",
   "mimetype": "text/x-python",
   "name": "python",
   "nbconvert_exporter": "python",
   "pygments_lexer": "ipython3",
   "version": "3.7.3"
  }
 },
 "nbformat": 4,
 "nbformat_minor": 2
}
