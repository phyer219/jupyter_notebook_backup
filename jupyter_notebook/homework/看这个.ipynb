{
 "cells": [
  {
   "cell_type": "code",
   "execution_count": null,
   "metadata": {},
   "outputs": [],
   "source": [
    "import numpy as np\n",
    "import matplotlib.pyplot as plt\n",
    "\n",
    "# this is a python program to calculate the integration of f = np.e**(-(x*x+y*y)/2)*x*x*y**4.\n",
    "exact = 1.17809722\n",
    "def w(x, y): # the distribution function W\n",
    "    w = (1/np.sqrt(2*np.pi))*np.exp(-x*x/2)*(1/np.sqrt(2*np.pi))*np.exp(-y*y/2)\n",
    "    return w\n",
    "\n",
    "def f(x, y): # the function f to be integrated\n",
    "    f = np.e**(-(x*x+y*y)/2)*x*x*y**4\n",
    "    return f\n",
    "\n",
    "def MCMC(n): # define a function to calculate this integration with n points\n",
    "    s = 0\n",
    "    h = 0.2 # the length of step\n",
    "    x = 0.5 # initial value of x\n",
    "    y = 0.5 # initial value of y\n",
    "    for i in range(n):\n",
    "        etax = np.random.random_sample()\n",
    "        x0 = x\n",
    "        x = x + h * (2 * etax - 1 )\n",
    "        etay = np.random.random_sample()\n",
    "        y0 = y\n",
    "        y = y + h * (2 * etay - 1 )\n",
    "\n",
    "        p = w(x, y)/w(x0, y0)\n",
    "        rand = np.random.random_sample()\n",
    "        if p >= 1:\n",
    "            x = x\n",
    "        elif p > rand:\n",
    "            x = x\n",
    "        else:\n",
    "            x = x0\n",
    "            y = y0\n",
    "        g = f(x,y )/w(x, y)\n",
    "        s = s + g\n",
    "    a = s / n\n",
    "    return a\n",
    "\n",
    "\n",
    "N = 10000\n",
    "x = np.linspace(1,N,N)\n",
    "y = np.zeros(N)\n",
    "for i in range(N):\n",
    "    nn = (i+1)*100\n",
    "    y[i] = MCMC(nn) - exact\n",
    "plt.plot(x,y)\n"
   ]
  },
  {
   "cell_type": "code",
   "execution_count": null,
   "metadata": {},
   "outputs": [],
   "source": []
  },
  {
   "cell_type": "code",
   "execution_count": null,
   "metadata": {},
   "outputs": [],
   "source": []
  }
 ],
 "metadata": {
  "kernelspec": {
   "display_name": "Python 3",
   "language": "python",
   "name": "python3"
  },
  "language_info": {
   "codemirror_mode": {
    "name": "ipython",
    "version": 3
   },
   "file_extension": ".py",
   "mimetype": "text/x-python",
   "name": "python",
   "nbconvert_exporter": "python",
   "pygments_lexer": "ipython3",
   "version": "3.7.3"
  }
 },
 "nbformat": 4,
 "nbformat_minor": 2
}
