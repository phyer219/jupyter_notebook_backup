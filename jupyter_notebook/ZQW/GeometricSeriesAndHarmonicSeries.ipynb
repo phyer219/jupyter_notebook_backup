{
 "cells": [
  {
   "cell_type": "code",
   "execution_count": 29,
   "metadata": {},
   "outputs": [
    {
     "data": {
      "image/png": "[encoded data removed]",
      "text/plain": [
       "<Figure size 432x288 with 1 Axes>"
      ]
     },
     "metadata": {
      "needs_background": "light"
     },
     "output_type": "display_data"
    }
   ],
   "source": [
    "\"\"\"\n",
    "geometric series\n",
    "S = 1 + r + r**2 + ...\n",
    "\"\"\"\n",
    "import numpy as np\n",
    "from matplotlib import pyplot as plt\n",
    "def s(r, n):\n",
    "    s = 1\n",
    "    for i in range(n-1):\n",
    "        s = s + r**(i+1)\n",
    "    return s\n",
    "\n",
    "N = 100\n",
    "r = .8\n",
    "n = np.linspace(1,N,N)\n",
    "S = np.zeros(N)\n",
    "for i in range(N):\n",
    "    S[i] = s(r,i+1)\n",
    "plt.plot(n,S)\n",
    "plt.show()"
   ]
  },
  {
   "cell_type": "markdown",
   "metadata": {},
   "source": [
    "<img src=\"images/GeometricSeries.gif\" width=600>\n",
    "<img src=\"images/GeometricSeries2.png\" width=600>"
   ]
  },
  {
   "cell_type": "code",
   "execution_count": 28,
   "metadata": {},
   "outputs": [
    {
     "data": {
      "image/png": "[encoded data removed]",
      "text/plain": [
       "<Figure size 432x288 with 1 Axes>"
      ]
     },
     "metadata": {
      "needs_background": "light"
     },
     "output_type": "display_data"
    }
   ],
   "source": [
    "\"\"\"\n",
    "harmonic series\n",
    "S = 1 + 1/2 + 1/3 + ...\n",
    "\"\"\"\n",
    "import numpy as np\n",
    "from matplotlib import pyplot as plt\n",
    "def s(n):\n",
    "    s = 1\n",
    "    for i in range(n-1):\n",
    "        s = s + 1/(i+2)\n",
    "    return s\n",
    "\n",
    "N = 1000\n",
    "n = np.linspace(1,N,N)\n",
    "S = np.zeros(N)\n",
    "for i in range(N):\n",
    "    S[i] = s(i+1)\n",
    "plt.plot(n,S)\n",
    "plt.show()"
   ]
  },
  {
   "cell_type": "code",
   "execution_count": 25,
   "metadata": {},
   "outputs": [
    {
     "data": {
      "text/plain": [
       "2.083333333333333"
      ]
     },
     "execution_count": 25,
     "metadata": {},
     "output_type": "execute_result"
    }
   ],
   "source": [
    "1+1/2+1/3+1/4"
   ]
  },
  {
   "cell_type": "markdown",
   "metadata": {},
   "source": [
    "<a href=\"https://www.youtube.com/watch?v=0iJmDhNocaQ\">YouTube: Harmonic Series (Music)</a> <br/>\n",
    "<a href=\"https://zh.wikipedia.org/wiki/%E6%B3%9B%E9%9F%B3\">wikipedia: Harmonic Series</a>"
   ]
  },
  {
   "cell_type": "code",
   "execution_count": null,
   "metadata": {},
   "outputs": [],
   "source": []
  }
 ],
 "metadata": {
  "kernelspec": {
   "display_name": "Python 3",
   "language": "python",
   "name": "python3"
  },
  "language_info": {
   "codemirror_mode": {
    "name": "ipython",
    "version": 3
   },
   "file_extension": ".py",
   "mimetype": "text/x-python",
   "name": "python",
   "nbconvert_exporter": "python",
   "pygments_lexer": "ipython3",
   "version": "3.7.3"
  }
 },
 "nbformat": 4,
 "nbformat_minor": 2
}
