{
 "cells": [
  {
   "cell_type": "code",
   "execution_count": 1,
   "metadata": {},
   "outputs": [
    {
     "name": "stdout",
     "output_type": "stream",
     "text": [
      "time= 1.23355678 secends\n",
      "3.1445119999999998\n"
     ]
    }
   ],
   "source": [
    "import numpy as np\n",
    "import time\n",
    "start = time.process_time()\n",
    "N = 1000000\n",
    "s = 0\n",
    "d = np.random.rand(N,2)\n",
    "for i in range(N):\n",
    "    r = d[i,0]**2 + d[i,1]**2\n",
    "    if r>1:\n",
    "        s = s+1\n",
    "#    print(r)\n",
    "p = 4 - 4*s/N\n",
    "end = time.process_time()\n",
    "\n",
    "print('time=',end-start,'secends')\n",
    "print(p)"
   ]
  },
  {
   "cell_type": "code",
   "execution_count": null,
   "metadata": {},
   "outputs": [],
   "source": []
  }
 ],
 "metadata": {
  "kernelspec": {
   "display_name": "Python 3",
   "language": "python",
   "name": "python3"
  },
  "language_info": {
   "codemirror_mode": {
    "name": "ipython",
    "version": 3
   },
   "file_extension": ".py",
   "mimetype": "text/x-python",
   "name": "python",
   "nbconvert_exporter": "python",
   "pygments_lexer": "ipython3",
   "version": "3.7.3"
  }
 },
 "nbformat": 4,
 "nbformat_minor": 2
}
