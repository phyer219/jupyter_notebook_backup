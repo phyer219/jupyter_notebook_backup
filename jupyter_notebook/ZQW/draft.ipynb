{
 "cells": [
  {
   "cell_type": "code",
   "execution_count": 9,
   "metadata": {},
   "outputs": [
    {
     "data": {
      "image/png": "[encoded data removed]",
      "text/plain": [
       "<Figure size 432x288 with 1 Axes>"
      ]
     },
     "metadata": {
      "needs_background": "light"
     },
     "output_type": "display_data"
    }
   ],
   "source": [
    "import numpy as np\n",
    "from matplotlib import pyplot as plt\n",
    "x = np.linspace(4.4,4.6,1000)\n",
    "y = np.sin(x) - x*np.cos(x)\n",
    "plt.plot(x,y)\n",
    "plt.show()"
   ]
  },
  {
   "cell_type": "code",
   "execution_count": 95,
   "metadata": {},
   "outputs": [
    {
     "name": "stdout",
     "output_type": "stream",
     "text": [
      "time= 1.2155277199999972 secends\n",
      "3.142604\n"
     ]
    }
   ],
   "source": [
    "import numpy as np\n",
    "import time\n",
    "start = time.process_time()\n",
    "N = 1000000\n",
    "s = 0\n",
    "d = np.random.rand(N,2)\n",
    "for i in range(N):\n",
    "    r = d[i,0]**2 + d[i,1]**2\n",
    "    if r>1:\n",
    "        s = s+1\n",
    "#    print(r)\n",
    "p = 4 - 4*s/N\n",
    "end = time.process_time()\n",
    "\n",
    "print('time=',end-start,'secends')\n",
    "print(p)"
   ]
  },
  {
   "cell_type": "code",
   "execution_count": null,
   "metadata": {},
   "outputs": [],
   "source": []
  },
  {
   "cell_type": "code",
   "execution_count": null,
   "metadata": {},
   "outputs": [],
   "source": []
  }
 ],
 "metadata": {
  "kernelspec": {
   "display_name": "Python 3",
   "language": "python",
   "name": "python3"
  },
  "language_info": {
   "codemirror_mode": {
    "name": "ipython",
    "version": 3
   },
   "file_extension": ".py",
   "mimetype": "text/x-python",
   "name": "python",
   "nbconvert_exporter": "python",
   "pygments_lexer": "ipython3",
   "version": "3.7.3"
  }
 },
 "nbformat": 4,
 "nbformat_minor": 2
}
