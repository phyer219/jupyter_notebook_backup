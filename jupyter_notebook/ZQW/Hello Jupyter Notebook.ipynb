{
 "cells": [
  {
   "cell_type": "markdown",
   "metadata": {
    "collapsed": true
   },
   "source": [
    "$x-\\frac{x^3}{6}+\\frac{x^5}{120}-\\frac{x^7}{5040}+\\frac{x^9}{362880}+O\\left(x^{11}\\right)$"
   ]
  },
  {
   "cell_type": "code",
   "execution_count": null,
   "metadata": {},
   "outputs": [],
   "source": []
  },
  {
   "cell_type": "markdown",
   "metadata": {},
   "source": [
    "<math xmlns='http://www.w3.org/1998/Math/MathML'\n",
    "    mathematica:form='StandardForm'\n",
    "    xmlns:mathematica='http://www.wolfram.com/XML/'>\n",
    " <semantics>\n",
    "  <mrow>\n",
    "   <mi>x</mi>\n",
    "   <mo>-</mo>\n",
    "   <mfrac>\n",
    "    <msup>\n",
    "     <mi>x</mi>\n",
    "     <mn>3</mn>\n",
    "    </msup>\n",
    "    <mn>6</mn>\n",
    "   </mfrac>\n",
    "   <mo>+</mo>\n",
    "   <mfrac>\n",
    "    <msup>\n",
    "     <mi>x</mi>\n",
    "     <mn>5</mn>\n",
    "    </msup>\n",
    "    <mn>120</mn>\n",
    "   </mfrac>\n",
    "   <mo>-</mo>\n",
    "   <mfrac>\n",
    "    <msup>\n",
    "     <mi>x</mi>\n",
    "     <mn>7</mn>\n",
    "    </msup>\n",
    "    <mn>5040</mn>\n",
    "   </mfrac>\n",
    "   <mo>+</mo>\n",
    "   <mfrac>\n",
    "    <msup>\n",
    "     <mi>x</mi>\n",
    "     <mn>9</mn>\n",
    "    </msup>\n",
    "    <mn>362880</mn>\n",
    "   </mfrac>\n",
    "   <mo>+</mo>\n",
    "   <msup>\n",
    "    <mrow>\n",
    "     <mi>O</mi>\n",
    "     <mo>[</mo>\n",
    "     <mi>x</mi>\n",
    "     <mo>]</mo>\n",
    "    </mrow>\n",
    "    <mn>11</mn>\n",
    "   </msup>\n",
    "  </mrow>\n",
    "  <annotation-xml encoding='MathML-Content'>\n",
    "   <apply>\n",
    "    <ci>SeriesData</ci>\n",
    "    <ci>x</ci>\n",
    "    <cn type='integer'>0</cn>\n",
    "    <list>\n",
    "     <cn type='integer'>1</cn>\n",
    "     <cn type='integer'>0</cn>\n",
    "     <cn type='rational'>-1<sep />6</cn>\n",
    "     <cn type='integer'>0</cn>\n",
    "     <cn type='rational'>1<sep />120</cn>\n",
    "     <cn type='integer'>0</cn>\n",
    "     <cn type='rational'>-1<sep />5040</cn>\n",
    "     <cn type='integer'>0</cn>\n",
    "     <cn type='rational'>1<sep />362880</cn>\n",
    "    </list>\n",
    "    <cn type='integer'>1</cn>\n",
    "    <cn type='integer'>11</cn>\n",
    "    <cn type='integer'>1</cn>\n",
    "   </apply>\n",
    "  </annotation-xml>\n",
    " </semantics>\n",
    "</math>"
   ]
  },
  {
   "cell_type": "markdown",
   "metadata": {},
   "source": [
    "$\\text{Series}[\\sin (x),\\{x,0,10\\}]$"
   ]
  },
  {
   "cell_type": "code",
   "execution_count": null,
   "metadata": {},
   "outputs": [],
   "source": []
  }
 ],
 "metadata": {
  "kernelspec": {
   "display_name": "Python 3",
   "language": "python",
   "name": "python3"
  },
  "language_info": {
   "codemirror_mode": {
    "name": "ipython",
    "version": 3
   },
   "file_extension": ".py",
   "mimetype": "text/x-python",
   "name": "python",
   "nbconvert_exporter": "python",
   "pygments_lexer": "ipython3",
   "version": "3.7.3"
  }
 },
 "nbformat": 4,
 "nbformat_minor": 2
}
