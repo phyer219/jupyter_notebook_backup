{
 "cells": [
  {
   "cell_type": "code",
   "execution_count": 112,
   "metadata": {},
   "outputs": [
    {
     "name": "stdout",
     "output_type": "stream",
     "text": [
      "list time is 0.12836086100003286\n",
      "for time is 0.09280151599989495\n"
     ]
    },
    {
     "data": {
      "text/plain": [
       "\"\\nprint('b=', b)\\nprint('c=', c)\\n\""
      ]
     },
     "execution_count": 112,
     "metadata": {},
     "output_type": "execute_result"
    }
   ],
   "source": [
    "from numba import jit \n",
    "import numpy as np\n",
    "import time\n",
    "@jit\n",
    "def f(x, y=1):\n",
    "    return np.exp(x) + y\n",
    "N = int(1e5)\n",
    "x = np.linspace(0, 100, N)\n",
    "st = time.process_time()\n",
    "b = f(x)\n",
    "ed1 = time.process_time()\n",
    "print(\"list time is\", ed1-st)\n",
    "\n",
    "c = np.zeros(N)\n",
    "for i in range(N):\n",
    "    c[i] = f(x[i])\n",
    "ed2 = time.process_time()\n",
    "print(\"for time is\", ed2-ed1)\n",
    "\n",
    "'''\n",
    "print('b=', b)\n",
    "print('c=', c)\n",
    "'''"
   ]
  },
  {
   "cell_type": "code",
   "execution_count": 113,
   "metadata": {},
   "outputs": [
    {
     "name": "stdout",
     "output_type": "stream",
     "text": [
      "list time is 0.0008266720000165151\n",
      "for time is 0.20780902399997103\n"
     ]
    }
   ],
   "source": [
    "\n",
    "import numpy as np\n",
    "import time\n",
    "def f(x, y=1):\n",
    "    return np.exp(x) + y\n",
    "N = int(1e5)\n",
    "x = np.linspace(0, 100, N)\n",
    "st = time.process_time()\n",
    "b = f(x)\n",
    "ed1 = time.process_time()\n",
    "print(\"list time is\", ed1-st)\n",
    "\n",
    "c = np.zeros(N)\n",
    "for i in range(N):\n",
    "    c[i] = f(x[i])\n",
    "ed2 = time.process_time()\n",
    "print(\"for time is\", ed2-ed1)"
   ]
  },
  {
   "cell_type": "code",
   "execution_count": 114,
   "metadata": {},
   "outputs": [
    {
     "data": {
      "text/plain": [
       "256.0"
      ]
     },
     "execution_count": 114,
     "metadata": {},
     "output_type": "execute_result"
    }
   ],
   "source": [
    "2048/8"
   ]
  },
  {
   "cell_type": "code",
   "execution_count": 103,
   "metadata": {},
   "outputs": [
    {
     "name": "stdout",
     "output_type": "stream",
     "text": [
      "75.38079975996338\n",
      "95.69519650889336\n",
      "95.69520640632486\n",
      "161.66666666666663\n",
      "161.66666666666657\n"
     ]
    }
   ],
   "source": [
    "from scipy import integrate\n",
    "def g(x, y):\n",
    "    return x**y\n",
    "aa = integrate.dblquad(g, 1, 2, lambda y:3, lambda y:8)[0]\n",
    "print(aa)\n",
    "\n",
    "def l(x, y):\n",
    "    return x**y\n",
    "\n",
    "def inside(y):\n",
    "    return integrate.fixed_quad(lambda x: l(x, y), 3, 8)[0]\n",
    "b = integrate.fixed_quad(inside, 1, 2)[0]\n",
    "print(b)\n",
    "\n",
    "\n",
    "from scipy.special import roots_legendre as leg\n",
    "def gauquad(f, a, b, n=50):\n",
    "    ft = lambda t: f( (b-a)*t/2 +(a+b)/2 ) * (b-a)/2\n",
    "    x, w = leg(n)\n",
    "    I = 0\n",
    "    I = I + w*ft(x)\n",
    "    I = I.sum()\n",
    "    err = 0\n",
    "    return I,err\n",
    "def inside2(y):\n",
    "    return gauquad(lambda x: l(x, y), 3, 8)[0]\n",
    "c = gauquad(inside2, 1, 2)[0]\n",
    "print(c)\n",
    "\n",
    "print(inside(2))\n",
    "print(inside2(2))\n"
   ]
  },
  {
   "cell_type": "code",
   "execution_count": 91,
   "metadata": {},
   "outputs": [
    {
     "name": "stdout",
     "output_type": "stream",
     "text": [
      "[[3 4]\n",
      " [6 8]]\n"
     ]
    }
   ],
   "source": [
    "q = np.array([1, 2])\n",
    "w = np.array([3, 4])\n",
    "print(np.outer(q,w))"
   ]
  },
  {
   "cell_type": "code",
   "execution_count": null,
   "metadata": {},
   "outputs": [],
   "source": []
  }
 ],
 "metadata": {
  "kernelspec": {
   "display_name": "Python 3",
   "language": "python",
   "name": "python3"
  },
  "language_info": {
   "codemirror_mode": {
    "name": "ipython",
    "version": 3
   },
   "file_extension": ".py",
   "mimetype": "text/x-python",
   "name": "python",
   "nbconvert_exporter": "python",
   "pygments_lexer": "ipython3",
   "version": "3.7.3"
  }
 },
 "nbformat": 4,
 "nbformat_minor": 2
}
